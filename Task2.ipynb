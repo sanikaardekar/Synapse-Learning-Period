{
  "nbformat": 4,
  "nbformat_minor": 0,
  "metadata": {
    "kernelspec": {
      "display_name": "Python 3",
      "language": "python",
      "name": "python3"
    },
    "language_info": {
      "codemirror_mode": {
        "name": "ipython",
        "version": 3
      },
      "file_extension": ".py",
      "mimetype": "text/x-python",
      "name": "python",
      "nbconvert_exporter": "python",
      "pygments_lexer": "ipython3",
      "version": "3.6.12"
    },
    "colab": {
      "name": "Task2.ipynb",
      "provenance": [],
      "collapsed_sections": []
    }
  },
  "cells": [
    {
      "cell_type": "markdown",
      "metadata": {
        "id": "2GKIJx3sYNC0"
      },
      "source": [
        "# Task 2\n",
        "This week you have learnt about various types of ML models. <br>\n",
        "Let us focus on two of them."
      ]
    },
    {
      "cell_type": "code",
      "metadata": {
        "id": "PQ4lXvV6YW_5",
        "colab": {
          "base_uri": "https://localhost:8080/"
        },
        "outputId": "f75d02e9-250e-481f-c1cd-b08bb46abb72"
      },
      "source": [
        "from google.colab import drive\n",
        "drive.mount(\"/content/gdrive\")"
      ],
      "execution_count": 57,
      "outputs": [
        {
          "output_type": "stream",
          "name": "stdout",
          "text": [
            "Drive already mounted at /content/gdrive; to attempt to forcibly remount, call drive.mount(\"/content/gdrive\", force_remount=True).\n"
          ]
        }
      ]
    },
    {
      "cell_type": "markdown",
      "metadata": {
        "id": "fKEbTpqVYg8m"
      },
      "source": [
        "# Instructions\n",
        "1. create a folder called synapse_w2 in your drive\n",
        "2. add housing_data.csv, classified_data.txt, titanic_data.csv in the folder.\n",
        "3. You will use the data from this path in this notebook"
      ]
    },
    {
      "cell_type": "code",
      "metadata": {
        "id": "88aLM-5hYgVL"
      },
      "source": [
        ""
      ],
      "execution_count": 57,
      "outputs": []
    },
    {
      "cell_type": "markdown",
      "metadata": {
        "id": "yJqOW8lFYNC3"
      },
      "source": [
        "# 1)  Linear Regression on Housing Price"
      ]
    },
    {
      "cell_type": "markdown",
      "metadata": {
        "id": "hZGyek2wYNC4"
      },
      "source": [
        "### Import packages and dataset"
      ]
    },
    {
      "cell_type": "code",
      "metadata": {
        "id": "C--rF9aZYNC4"
      },
      "source": [
        "# import numpy, pandas, matplotlib, seaborn\n",
        "# add code here\n",
        "import numpy as np\n",
        "import pandas as pd\n",
        "import matplotlib.pyplot as plt\n",
        "import seaborn as sns\n",
        "import sklearn\n",
        "%matplotlib inline"
      ],
      "execution_count": 58,
      "outputs": []
    },
    {
      "cell_type": "markdown",
      "metadata": {
        "id": "P8Kgu-VJYNC5"
      },
      "source": [
        "**Read housing_data.csv using pandas and call head() to show first few records.**"
      ]
    },
    {
      "cell_type": "code",
      "metadata": {
        "id": "qrdEbQKxYNC5",
        "colab": {
          "base_uri": "https://localhost:8080/",
          "height": 203
        },
        "outputId": "31a99a48-ac51-42e5-eb2e-581f43ce08f8"
      },
      "source": [
        "# add code here\n",
        "housing_path = \"/content/gdrive/MyDrive/synapse_w2/housing_data.csv\"\n",
        "#classified_path= \"/content/gdrive/MyDrive/synapse_w2/classified_data.txt\"\n",
        "#titanic_path = \"/content/gdrive/MyDrive/synapse_w2/titanic_data.csv\"\n",
        "housing_df = pd.read_csv(housing_path)\n",
        "#titanic_df = pd.read_csv(titanic_path)\n",
        "#classified_df = pd.read_txt(classified_path)\n",
        "housing_df.head(5)"
      ],
      "execution_count": 59,
      "outputs": [
        {
          "output_type": "execute_result",
          "data": {
            "text/html": [
              "<div>\n",
              "<style scoped>\n",
              "    .dataframe tbody tr th:only-of-type {\n",
              "        vertical-align: middle;\n",
              "    }\n",
              "\n",
              "    .dataframe tbody tr th {\n",
              "        vertical-align: top;\n",
              "    }\n",
              "\n",
              "    .dataframe thead th {\n",
              "        text-align: right;\n",
              "    }\n",
              "</style>\n",
              "<table border=\"1\" class=\"dataframe\">\n",
              "  <thead>\n",
              "    <tr style=\"text-align: right;\">\n",
              "      <th></th>\n",
              "      <th>Avg. Area Income</th>\n",
              "      <th>Avg. Area House Age</th>\n",
              "      <th>Avg. Area Number of Rooms</th>\n",
              "      <th>Avg. Area Number of Bedrooms</th>\n",
              "      <th>Area Population</th>\n",
              "      <th>Price</th>\n",
              "      <th>Address</th>\n",
              "    </tr>\n",
              "  </thead>\n",
              "  <tbody>\n",
              "    <tr>\n",
              "      <th>0</th>\n",
              "      <td>79545.458574</td>\n",
              "      <td>5.682861</td>\n",
              "      <td>7.009188</td>\n",
              "      <td>4.09</td>\n",
              "      <td>23086.800503</td>\n",
              "      <td>1.059034e+06</td>\n",
              "      <td>208 Michael Ferry Apt. 674\\nLaurabury, NE 3701...</td>\n",
              "    </tr>\n",
              "    <tr>\n",
              "      <th>1</th>\n",
              "      <td>79248.642455</td>\n",
              "      <td>6.002900</td>\n",
              "      <td>6.730821</td>\n",
              "      <td>3.09</td>\n",
              "      <td>40173.072174</td>\n",
              "      <td>1.505891e+06</td>\n",
              "      <td>188 Johnson Views Suite 079\\nLake Kathleen, CA...</td>\n",
              "    </tr>\n",
              "    <tr>\n",
              "      <th>2</th>\n",
              "      <td>61287.067179</td>\n",
              "      <td>5.865890</td>\n",
              "      <td>8.512727</td>\n",
              "      <td>5.13</td>\n",
              "      <td>36882.159400</td>\n",
              "      <td>1.058988e+06</td>\n",
              "      <td>9127 Elizabeth Stravenue\\nDanieltown, WI 06482...</td>\n",
              "    </tr>\n",
              "    <tr>\n",
              "      <th>3</th>\n",
              "      <td>63345.240046</td>\n",
              "      <td>7.188236</td>\n",
              "      <td>5.586729</td>\n",
              "      <td>3.26</td>\n",
              "      <td>34310.242831</td>\n",
              "      <td>1.260617e+06</td>\n",
              "      <td>USS Barnett\\nFPO AP 44820</td>\n",
              "    </tr>\n",
              "    <tr>\n",
              "      <th>4</th>\n",
              "      <td>59982.197226</td>\n",
              "      <td>5.040555</td>\n",
              "      <td>7.839388</td>\n",
              "      <td>4.23</td>\n",
              "      <td>26354.109472</td>\n",
              "      <td>6.309435e+05</td>\n",
              "      <td>USNS Raymond\\nFPO AE 09386</td>\n",
              "    </tr>\n",
              "  </tbody>\n",
              "</table>\n",
              "</div>"
            ],
            "text/plain": [
              "   Avg. Area Income  ...                                            Address\n",
              "0      79545.458574  ...  208 Michael Ferry Apt. 674\\nLaurabury, NE 3701...\n",
              "1      79248.642455  ...  188 Johnson Views Suite 079\\nLake Kathleen, CA...\n",
              "2      61287.067179  ...  9127 Elizabeth Stravenue\\nDanieltown, WI 06482...\n",
              "3      63345.240046  ...                          USS Barnett\\nFPO AP 44820\n",
              "4      59982.197226  ...                         USNS Raymond\\nFPO AE 09386\n",
              "\n",
              "[5 rows x 7 columns]"
            ]
          },
          "metadata": {},
          "execution_count": 59
        }
      ]
    },
    {
      "cell_type": "markdown",
      "metadata": {
        "id": "_158HqRTYNC6"
      },
      "source": [
        "### Exloratory Data Analysis (EDA)"
      ]
    },
    {
      "cell_type": "markdown",
      "metadata": {
        "id": "YbmnOZ48YNC6"
      },
      "source": [
        "**'info()' method to check the data types and number**"
      ]
    },
    {
      "cell_type": "code",
      "metadata": {
        "id": "7YWr6trZYNC6",
        "colab": {
          "base_uri": "https://localhost:8080/"
        },
        "outputId": "2043de48-908a-4b90-dc83-e7c250d72ca6"
      },
      "source": [
        "# add code here\n",
        "housing_df.info()"
      ],
      "execution_count": 60,
      "outputs": [
        {
          "output_type": "stream",
          "name": "stdout",
          "text": [
            "<class 'pandas.core.frame.DataFrame'>\n",
            "RangeIndex: 5000 entries, 0 to 4999\n",
            "Data columns (total 7 columns):\n",
            " #   Column                        Non-Null Count  Dtype  \n",
            "---  ------                        --------------  -----  \n",
            " 0   Avg. Area Income              5000 non-null   float64\n",
            " 1   Avg. Area House Age           5000 non-null   float64\n",
            " 2   Avg. Area Number of Rooms     5000 non-null   float64\n",
            " 3   Avg. Area Number of Bedrooms  5000 non-null   float64\n",
            " 4   Area Population               5000 non-null   float64\n",
            " 5   Price                         5000 non-null   float64\n",
            " 6   Address                       5000 non-null   object \n",
            "dtypes: float64(6), object(1)\n",
            "memory usage: 273.6+ KB\n"
          ]
        }
      ]
    },
    {
      "cell_type": "markdown",
      "metadata": {
        "id": "-XVB-HteYNC7"
      },
      "source": [
        "**Get the statistical summary of the data set** <br>\n",
        "Hint: describe()"
      ]
    },
    {
      "cell_type": "code",
      "metadata": {
        "id": "XZPbIjgYYNC7",
        "colab": {
          "base_uri": "https://localhost:8080/",
          "height": 295
        },
        "outputId": "a72bcb35-c65b-4ebc-9432-9bd734a14375"
      },
      "source": [
        "# add code here\n",
        "housing_df.describe()"
      ],
      "execution_count": 61,
      "outputs": [
        {
          "output_type": "execute_result",
          "data": {
            "text/html": [
              "<div>\n",
              "<style scoped>\n",
              "    .dataframe tbody tr th:only-of-type {\n",
              "        vertical-align: middle;\n",
              "    }\n",
              "\n",
              "    .dataframe tbody tr th {\n",
              "        vertical-align: top;\n",
              "    }\n",
              "\n",
              "    .dataframe thead th {\n",
              "        text-align: right;\n",
              "    }\n",
              "</style>\n",
              "<table border=\"1\" class=\"dataframe\">\n",
              "  <thead>\n",
              "    <tr style=\"text-align: right;\">\n",
              "      <th></th>\n",
              "      <th>Avg. Area Income</th>\n",
              "      <th>Avg. Area House Age</th>\n",
              "      <th>Avg. Area Number of Rooms</th>\n",
              "      <th>Avg. Area Number of Bedrooms</th>\n",
              "      <th>Area Population</th>\n",
              "      <th>Price</th>\n",
              "    </tr>\n",
              "  </thead>\n",
              "  <tbody>\n",
              "    <tr>\n",
              "      <th>count</th>\n",
              "      <td>5000.000000</td>\n",
              "      <td>5000.000000</td>\n",
              "      <td>5000.000000</td>\n",
              "      <td>5000.000000</td>\n",
              "      <td>5000.000000</td>\n",
              "      <td>5.000000e+03</td>\n",
              "    </tr>\n",
              "    <tr>\n",
              "      <th>mean</th>\n",
              "      <td>68583.108984</td>\n",
              "      <td>5.977222</td>\n",
              "      <td>6.987792</td>\n",
              "      <td>3.981330</td>\n",
              "      <td>36163.516039</td>\n",
              "      <td>1.232073e+06</td>\n",
              "    </tr>\n",
              "    <tr>\n",
              "      <th>std</th>\n",
              "      <td>10657.991214</td>\n",
              "      <td>0.991456</td>\n",
              "      <td>1.005833</td>\n",
              "      <td>1.234137</td>\n",
              "      <td>9925.650114</td>\n",
              "      <td>3.531176e+05</td>\n",
              "    </tr>\n",
              "    <tr>\n",
              "      <th>min</th>\n",
              "      <td>17796.631190</td>\n",
              "      <td>2.644304</td>\n",
              "      <td>3.236194</td>\n",
              "      <td>2.000000</td>\n",
              "      <td>172.610686</td>\n",
              "      <td>1.593866e+04</td>\n",
              "    </tr>\n",
              "    <tr>\n",
              "      <th>25%</th>\n",
              "      <td>61480.562388</td>\n",
              "      <td>5.322283</td>\n",
              "      <td>6.299250</td>\n",
              "      <td>3.140000</td>\n",
              "      <td>29403.928702</td>\n",
              "      <td>9.975771e+05</td>\n",
              "    </tr>\n",
              "    <tr>\n",
              "      <th>50%</th>\n",
              "      <td>68804.286404</td>\n",
              "      <td>5.970429</td>\n",
              "      <td>7.002902</td>\n",
              "      <td>4.050000</td>\n",
              "      <td>36199.406689</td>\n",
              "      <td>1.232669e+06</td>\n",
              "    </tr>\n",
              "    <tr>\n",
              "      <th>75%</th>\n",
              "      <td>75783.338666</td>\n",
              "      <td>6.650808</td>\n",
              "      <td>7.665871</td>\n",
              "      <td>4.490000</td>\n",
              "      <td>42861.290769</td>\n",
              "      <td>1.471210e+06</td>\n",
              "    </tr>\n",
              "    <tr>\n",
              "      <th>max</th>\n",
              "      <td>107701.748378</td>\n",
              "      <td>9.519088</td>\n",
              "      <td>10.759588</td>\n",
              "      <td>6.500000</td>\n",
              "      <td>69621.713378</td>\n",
              "      <td>2.469066e+06</td>\n",
              "    </tr>\n",
              "  </tbody>\n",
              "</table>\n",
              "</div>"
            ],
            "text/plain": [
              "       Avg. Area Income  Avg. Area House Age  ...  Area Population         Price\n",
              "count       5000.000000          5000.000000  ...      5000.000000  5.000000e+03\n",
              "mean       68583.108984             5.977222  ...     36163.516039  1.232073e+06\n",
              "std        10657.991214             0.991456  ...      9925.650114  3.531176e+05\n",
              "min        17796.631190             2.644304  ...       172.610686  1.593866e+04\n",
              "25%        61480.562388             5.322283  ...     29403.928702  9.975771e+05\n",
              "50%        68804.286404             5.970429  ...     36199.406689  1.232669e+06\n",
              "75%        75783.338666             6.650808  ...     42861.290769  1.471210e+06\n",
              "max       107701.748378             9.519088  ...     69621.713378  2.469066e+06\n",
              "\n",
              "[8 rows x 6 columns]"
            ]
          },
          "metadata": {},
          "execution_count": 61
        }
      ]
    },
    {
      "cell_type": "markdown",
      "metadata": {
        "id": "DfSgsewYYNC7"
      },
      "source": [
        "**Print the names of the columns(features)**"
      ]
    },
    {
      "cell_type": "code",
      "metadata": {
        "id": "9ss5VF20YNC8",
        "colab": {
          "base_uri": "https://localhost:8080/"
        },
        "outputId": "8e9a05f7-0ad6-48f4-805c-c6274d656682"
      },
      "source": [
        "# add code here\n",
        "housing_list=list(housing_df)\n",
        "for col1_name in housing_list: \n",
        "    print(col1_name)"
      ],
      "execution_count": 62,
      "outputs": [
        {
          "output_type": "stream",
          "name": "stdout",
          "text": [
            "Avg. Area Income\n",
            "Avg. Area House Age\n",
            "Avg. Area Number of Rooms\n",
            "Avg. Area Number of Bedrooms\n",
            "Area Population\n",
            "Price\n",
            "Address\n"
          ]
        }
      ]
    },
    {
      "cell_type": "markdown",
      "metadata": {
        "id": "p0HiN5NeYNC8"
      },
      "source": [
        "### Basic plotting and visualization"
      ]
    },
    {
      "cell_type": "markdown",
      "metadata": {
        "id": "-rumpxTXYNC8"
      },
      "source": [
        "**The target quantity is price. Let us see its distribution.** <br>\n",
        "Plot a histogram of Price. Choose the number of bins by experimenting a little. (Expected: a bell curve shape)"
      ]
    },
    {
      "cell_type": "code",
      "metadata": {
        "id": "8BGkFMVBYNC8",
        "colab": {
          "base_uri": "https://localhost:8080/",
          "height": 369
        },
        "outputId": "af672591-309f-4e74-a1ba-914b804e31f9"
      },
      "source": [
        "# add code here\n",
        "data = housing_df['Price']\n",
        "sns.displot(data)\n",
        "plt.show()"
      ],
      "execution_count": 63,
      "outputs": [
        {
          "output_type": "display_data",
          "data": {
            "image/png": "[encoded data removed]",
            "text/plain": [
              "<Figure size 360x360 with 1 Axes>"
            ]
          },
          "metadata": {
            "needs_background": "light"
          }
        }
      ]
    },
    {
      "cell_type": "markdown",
      "metadata": {
        "id": "Al174yCyYNC9"
      },
      "source": [
        "**Let us see how the different features are correlated with each other by printing a Correlation Matrix**<br>\n",
        "Hint: corr()"
      ]
    },
    {
      "cell_type": "code",
      "metadata": {
        "scrolled": false,
        "id": "aaLwISKZYNC9",
        "colab": {
          "base_uri": "https://localhost:8080/",
          "height": 234
        },
        "outputId": "ec74efae-3fb6-4fc4-c98d-89fda0f0ebb3"
      },
      "source": [
        "# add code here\n",
        "housing_df.corr()"
      ],
      "execution_count": 64,
      "outputs": [
        {
          "output_type": "execute_result",
          "data": {
            "text/html": [
              "<div>\n",
              "<style scoped>\n",
              "    .dataframe tbody tr th:only-of-type {\n",
              "        vertical-align: middle;\n",
              "    }\n",
              "\n",
              "    .dataframe tbody tr th {\n",
              "        vertical-align: top;\n",
              "    }\n",
              "\n",
              "    .dataframe thead th {\n",
              "        text-align: right;\n",
              "    }\n",
              "</style>\n",
              "<table border=\"1\" class=\"dataframe\">\n",
              "  <thead>\n",
              "    <tr style=\"text-align: right;\">\n",
              "      <th></th>\n",
              "      <th>Avg. Area Income</th>\n",
              "      <th>Avg. Area House Age</th>\n",
              "      <th>Avg. Area Number of Rooms</th>\n",
              "      <th>Avg. Area Number of Bedrooms</th>\n",
              "      <th>Area Population</th>\n",
              "      <th>Price</th>\n",
              "    </tr>\n",
              "  </thead>\n",
              "  <tbody>\n",
              "    <tr>\n",
              "      <th>Avg. Area Income</th>\n",
              "      <td>1.000000</td>\n",
              "      <td>-0.002007</td>\n",
              "      <td>-0.011032</td>\n",
              "      <td>0.019788</td>\n",
              "      <td>-0.016234</td>\n",
              "      <td>0.639734</td>\n",
              "    </tr>\n",
              "    <tr>\n",
              "      <th>Avg. Area House Age</th>\n",
              "      <td>-0.002007</td>\n",
              "      <td>1.000000</td>\n",
              "      <td>-0.009428</td>\n",
              "      <td>0.006149</td>\n",
              "      <td>-0.018743</td>\n",
              "      <td>0.452543</td>\n",
              "    </tr>\n",
              "    <tr>\n",
              "      <th>Avg. Area Number of Rooms</th>\n",
              "      <td>-0.011032</td>\n",
              "      <td>-0.009428</td>\n",
              "      <td>1.000000</td>\n",
              "      <td>0.462695</td>\n",
              "      <td>0.002040</td>\n",
              "      <td>0.335664</td>\n",
              "    </tr>\n",
              "    <tr>\n",
              "      <th>Avg. Area Number of Bedrooms</th>\n",
              "      <td>0.019788</td>\n",
              "      <td>0.006149</td>\n",
              "      <td>0.462695</td>\n",
              "      <td>1.000000</td>\n",
              "      <td>-0.022168</td>\n",
              "      <td>0.171071</td>\n",
              "    </tr>\n",
              "    <tr>\n",
              "      <th>Area Population</th>\n",
              "      <td>-0.016234</td>\n",
              "      <td>-0.018743</td>\n",
              "      <td>0.002040</td>\n",
              "      <td>-0.022168</td>\n",
              "      <td>1.000000</td>\n",
              "      <td>0.408556</td>\n",
              "    </tr>\n",
              "    <tr>\n",
              "      <th>Price</th>\n",
              "      <td>0.639734</td>\n",
              "      <td>0.452543</td>\n",
              "      <td>0.335664</td>\n",
              "      <td>0.171071</td>\n",
              "      <td>0.408556</td>\n",
              "      <td>1.000000</td>\n",
              "    </tr>\n",
              "  </tbody>\n",
              "</table>\n",
              "</div>"
            ],
            "text/plain": [
              "                              Avg. Area Income  ...     Price\n",
              "Avg. Area Income                      1.000000  ...  0.639734\n",
              "Avg. Area House Age                  -0.002007  ...  0.452543\n",
              "Avg. Area Number of Rooms            -0.011032  ...  0.335664\n",
              "Avg. Area Number of Bedrooms          0.019788  ...  0.171071\n",
              "Area Population                      -0.016234  ...  0.408556\n",
              "Price                                 0.639734  ...  1.000000\n",
              "\n",
              "[6 rows x 6 columns]"
            ]
          },
          "metadata": {},
          "execution_count": 64
        }
      ]
    },
    {
      "cell_type": "markdown",
      "metadata": {
        "id": "niwpNf_EYNC9"
      },
      "source": [
        "### Feature and variable sets"
      ]
    },
    {
      "cell_type": "markdown",
      "metadata": {
        "id": "YZRq4NakYNC9"
      },
      "source": [
        "**Make a list of data frame column names**\n",
        "**Create a new dataframe containing all the numerical training features(note that Address is a string so ignore that) and store it in a variable called \"X\"**<br><br>\n",
        "**Then create a new dataframe containing the target (Price) and store it in a variable called \"y\"**"
      ]
    },
    {
      "cell_type": "code",
      "metadata": {
        "id": "KBKubTuLYNC-"
      },
      "source": [
        "# add code here\n",
        "\n",
        "X=housing_df.drop(['Address', 'Price'], axis = 1)\n",
        "y=pd.DataFrame(housing_df['Price'])\n"
      ],
      "execution_count": 65,
      "outputs": []
    },
    {
      "cell_type": "code",
      "metadata": {
        "id": "2w-pU7UhYNC-",
        "colab": {
          "base_uri": "https://localhost:8080/"
        },
        "outputId": "65436a6f-01fd-4423-b648-fa16214f15fa"
      },
      "source": [
        "# This code should print (5000, 5) and (5000,) if everything is correct\n",
        "print(X.shape)\n",
        "print(y.shape)\n",
        "\n"
      ],
      "execution_count": 66,
      "outputs": [
        {
          "output_type": "stream",
          "name": "stdout",
          "text": [
            "(5000, 5)\n",
            "(5000, 1)\n"
          ]
        }
      ]
    },
    {
      "cell_type": "code",
      "metadata": {
        "id": "qC6JzmuDYNC-",
        "colab": {
          "base_uri": "https://localhost:8080/",
          "height": 203
        },
        "outputId": "dc6b50c7-35d1-4fee-a8dd-afd03f6781cd"
      },
      "source": [
        "# print a few record of X\n",
        "# add code here\n",
        "X.head(5)"
      ],
      "execution_count": 67,
      "outputs": [
        {
          "output_type": "execute_result",
          "data": {
            "text/html": [
              "<div>\n",
              "<style scoped>\n",
              "    .dataframe tbody tr th:only-of-type {\n",
              "        vertical-align: middle;\n",
              "    }\n",
              "\n",
              "    .dataframe tbody tr th {\n",
              "        vertical-align: top;\n",
              "    }\n",
              "\n",
              "    .dataframe thead th {\n",
              "        text-align: right;\n",
              "    }\n",
              "</style>\n",
              "<table border=\"1\" class=\"dataframe\">\n",
              "  <thead>\n",
              "    <tr style=\"text-align: right;\">\n",
              "      <th></th>\n",
              "      <th>Avg. Area Income</th>\n",
              "      <th>Avg. Area House Age</th>\n",
              "      <th>Avg. Area Number of Rooms</th>\n",
              "      <th>Avg. Area Number of Bedrooms</th>\n",
              "      <th>Area Population</th>\n",
              "    </tr>\n",
              "  </thead>\n",
              "  <tbody>\n",
              "    <tr>\n",
              "      <th>0</th>\n",
              "      <td>79545.458574</td>\n",
              "      <td>5.682861</td>\n",
              "      <td>7.009188</td>\n",
              "      <td>4.09</td>\n",
              "      <td>23086.800503</td>\n",
              "    </tr>\n",
              "    <tr>\n",
              "      <th>1</th>\n",
              "      <td>79248.642455</td>\n",
              "      <td>6.002900</td>\n",
              "      <td>6.730821</td>\n",
              "      <td>3.09</td>\n",
              "      <td>40173.072174</td>\n",
              "    </tr>\n",
              "    <tr>\n",
              "      <th>2</th>\n",
              "      <td>61287.067179</td>\n",
              "      <td>5.865890</td>\n",
              "      <td>8.512727</td>\n",
              "      <td>5.13</td>\n",
              "      <td>36882.159400</td>\n",
              "    </tr>\n",
              "    <tr>\n",
              "      <th>3</th>\n",
              "      <td>63345.240046</td>\n",
              "      <td>7.188236</td>\n",
              "      <td>5.586729</td>\n",
              "      <td>3.26</td>\n",
              "      <td>34310.242831</td>\n",
              "    </tr>\n",
              "    <tr>\n",
              "      <th>4</th>\n",
              "      <td>59982.197226</td>\n",
              "      <td>5.040555</td>\n",
              "      <td>7.839388</td>\n",
              "      <td>4.23</td>\n",
              "      <td>26354.109472</td>\n",
              "    </tr>\n",
              "  </tbody>\n",
              "</table>\n",
              "</div>"
            ],
            "text/plain": [
              "   Avg. Area Income  ...  Area Population\n",
              "0      79545.458574  ...     23086.800503\n",
              "1      79248.642455  ...     40173.072174\n",
              "2      61287.067179  ...     36882.159400\n",
              "3      63345.240046  ...     34310.242831\n",
              "4      59982.197226  ...     26354.109472\n",
              "\n",
              "[5 rows x 5 columns]"
            ]
          },
          "metadata": {},
          "execution_count": 67
        }
      ]
    },
    {
      "cell_type": "code",
      "metadata": {
        "id": "rQ9RkZ1-YNC-",
        "colab": {
          "base_uri": "https://localhost:8080/",
          "height": 203
        },
        "outputId": "f5fd7814-9486-46f7-c237-a14ba692d557"
      },
      "source": [
        "# print a few record of y\n",
        "# add code here\n",
        "y.head(5)\n"
      ],
      "execution_count": 68,
      "outputs": [
        {
          "output_type": "execute_result",
          "data": {
            "text/html": [
              "<div>\n",
              "<style scoped>\n",
              "    .dataframe tbody tr th:only-of-type {\n",
              "        vertical-align: middle;\n",
              "    }\n",
              "\n",
              "    .dataframe tbody tr th {\n",
              "        vertical-align: top;\n",
              "    }\n",
              "\n",
              "    .dataframe thead th {\n",
              "        text-align: right;\n",
              "    }\n",
              "</style>\n",
              "<table border=\"1\" class=\"dataframe\">\n",
              "  <thead>\n",
              "    <tr style=\"text-align: right;\">\n",
              "      <th></th>\n",
              "      <th>Price</th>\n",
              "    </tr>\n",
              "  </thead>\n",
              "  <tbody>\n",
              "    <tr>\n",
              "      <th>0</th>\n",
              "      <td>1.059034e+06</td>\n",
              "    </tr>\n",
              "    <tr>\n",
              "      <th>1</th>\n",
              "      <td>1.505891e+06</td>\n",
              "    </tr>\n",
              "    <tr>\n",
              "      <th>2</th>\n",
              "      <td>1.058988e+06</td>\n",
              "    </tr>\n",
              "    <tr>\n",
              "      <th>3</th>\n",
              "      <td>1.260617e+06</td>\n",
              "    </tr>\n",
              "    <tr>\n",
              "      <th>4</th>\n",
              "      <td>6.309435e+05</td>\n",
              "    </tr>\n",
              "  </tbody>\n",
              "</table>\n",
              "</div>"
            ],
            "text/plain": [
              "          Price\n",
              "0  1.059034e+06\n",
              "1  1.505891e+06\n",
              "2  1.058988e+06\n",
              "3  1.260617e+06\n",
              "4  6.309435e+05"
            ]
          },
          "metadata": {},
          "execution_count": 68
        }
      ]
    },
    {
      "cell_type": "markdown",
      "metadata": {
        "id": "TvhXRmGyYNC_"
      },
      "source": [
        "### Test-train split"
      ]
    },
    {
      "cell_type": "markdown",
      "metadata": {
        "id": "A-I6E4XuYNC_"
      },
      "source": [
        "**Import train_test_split function from scikit-learn**"
      ]
    },
    {
      "cell_type": "code",
      "metadata": {
        "id": "SJ2t9WC4YNC_"
      },
      "source": [
        "# add code here\n",
        "from sklearn.model_selection import train_test_split"
      ],
      "execution_count": 69,
      "outputs": []
    },
    {
      "cell_type": "markdown",
      "metadata": {
        "id": "wTHAGB7pYNC_"
      },
      "source": [
        "**Create X and y train and test splits in one command using a test size of 0.3 and a random seed**<br>\n",
        "They should be called X_train, X_test, y_train, y_test"
      ]
    },
    {
      "cell_type": "code",
      "metadata": {
        "id": "gZWMHfPcYNC_"
      },
      "source": [
        "# add code here\n",
        "X_train, X_test, y_train, y_test = train_test_split(X, y, test_size=0.3, random_state=0)"
      ],
      "execution_count": 70,
      "outputs": []
    },
    {
      "cell_type": "markdown",
      "metadata": {
        "id": "x9RaW9tEPBBJ"
      },
      "source": [
        ""
      ]
    },
    {
      "cell_type": "markdown",
      "metadata": {
        "id": "xyfldBi7YNDA"
      },
      "source": [
        "**Print the size and shape of each of the train/test splits (it should be in the ratio as per test_size parameter above)**"
      ]
    },
    {
      "cell_type": "code",
      "metadata": {
        "id": "PTMhv-xlYNDA",
        "colab": {
          "base_uri": "https://localhost:8080/"
        },
        "outputId": "79f4b6dd-e63e-496f-dcae-90eb359bd93b"
      },
      "source": [
        "# add code here\n",
        "print(X_train.size, X_train.shape)\n",
        "print(X_test.size, X_test.shape)\n",
        "print(y_train.size, y_train.shape)\n",
        "print(y_test.size, y_test.shape)\n"
      ],
      "execution_count": 71,
      "outputs": [
        {
          "output_type": "stream",
          "name": "stdout",
          "text": [
            "17500 (3500, 5)\n",
            "7500 (1500, 5)\n",
            "3500 (3500, 1)\n",
            "1500 (1500, 1)\n"
          ]
        }
      ]
    },
    {
      "cell_type": "markdown",
      "metadata": {
        "id": "ZBLwVsQIYNDA"
      },
      "source": [
        "### Model fit and training"
      ]
    },
    {
      "cell_type": "markdown",
      "metadata": {
        "id": "uNPr5Xb0YNDA"
      },
      "source": [
        "**Import LinearRegression and metrics from scikit-learn**"
      ]
    },
    {
      "cell_type": "code",
      "metadata": {
        "id": "llBzX5-EYNDA"
      },
      "source": [
        "# add code for imports here\n",
        "from sklearn.linear_model import LinearRegression\n",
        "from sklearn import metrics\n",
        "# Create a Linear Regression object 'lm' by calling LinearRegression()\n",
        "# add code here\n",
        "lm = LinearRegression()\n"
      ],
      "execution_count": 72,
      "outputs": []
    },
    {
      "cell_type": "markdown",
      "metadata": {
        "id": "rRzoOJXhYNDA"
      },
      "source": [
        "**Fit the model on to the instantiated object itself using the X_train and y_train created earlier. No need to create another variable**<br>\n",
        "Hint: lm.fit()"
      ]
    },
    {
      "cell_type": "code",
      "metadata": {
        "id": "R9U1pME1YNDB",
        "colab": {
          "base_uri": "https://localhost:8080/"
        },
        "outputId": "6727958a-58f8-4cbf-a4d4-c029009e62a7"
      },
      "source": [
        "# add code here\n",
        "lm.fit(X_train, y_train)"
      ],
      "execution_count": 73,
      "outputs": [
        {
          "output_type": "execute_result",
          "data": {
            "text/plain": [
              "LinearRegression(copy_X=True, fit_intercept=True, n_jobs=None, normalize=False)"
            ]
          },
          "metadata": {},
          "execution_count": 73
        }
      ]
    },
    {
      "cell_type": "markdown",
      "metadata": {
        "id": "a7pxLfloYNDM"
      },
      "source": [
        "### Prediction, error estimate, and regression evaluation matrices"
      ]
    },
    {
      "cell_type": "markdown",
      "metadata": {
        "id": "rOXcTK_iYNDN"
      },
      "source": [
        "**Prediction using the lm model**<br>\n",
        "Use model.predict() on X_test and store them in a variable called \"predictions\".<br>\n",
        "Print type and size of the predictions. Size should be (1500,) if everything is correct."
      ]
    },
    {
      "cell_type": "code",
      "metadata": {
        "id": "ef28Cy7pYNDP",
        "colab": {
          "base_uri": "https://localhost:8080/"
        },
        "outputId": "98d3d6b5-2bdc-44b1-a675-63f25ef1af58"
      },
      "source": [
        "# add code here\n",
        "predictions=lm.predict(X_test)\n",
        "print(type(predictions))\n",
        "print(predictions.size)"
      ],
      "execution_count": 74,
      "outputs": [
        {
          "output_type": "stream",
          "name": "stdout",
          "text": [
            "<class 'numpy.ndarray'>\n",
            "1500\n"
          ]
        }
      ]
    },
    {
      "cell_type": "markdown",
      "metadata": {
        "id": "rPM6_2M5YNDQ"
      },
      "source": [
        "**Since we're done with our predictions, let's compare it with y_test and see how accurate our predictions are.<br> Plot a Scatter plot of predicted price and y_test set to see if the data fall on a 45 degree straight line**"
      ]
    },
    {
      "cell_type": "code",
      "metadata": {
        "scrolled": false,
        "id": "2T7YcpWMYNDQ",
        "colab": {
          "base_uri": "https://localhost:8080/",
          "height": 289
        },
        "outputId": "b9216753-67dc-4b90-ece4-84361ac707b1"
      },
      "source": [
        "# add code here\n",
        "predict= lm.predict(X_test)\n",
        "plt.plot(predict, predict, color='g')\n",
        "plt.scatter(x=predictions, y=y_test, s=10)\n",
        "plt.show()"
      ],
      "execution_count": 75,
      "outputs": [
        {
          "output_type": "display_data",
          "data": {
            "image/png": "[encoded data removed]",
            "text/plain": [
              "<Figure size 432x288 with 1 Axes>"
            ]
          },
          "metadata": {
            "needs_background": "light"
          }
        }
      ]
    },
    {
      "cell_type": "markdown",
      "metadata": {
        "id": "LZtFB738YNDS"
      },
      "source": [
        "**Print the R-square value and round it to 3 decimal places**<br>\n",
        "Hint: sklearn metrics.r2_score"
      ]
    },
    {
      "cell_type": "code",
      "metadata": {
        "id": "IGKgAkCDYNDS",
        "colab": {
          "base_uri": "https://localhost:8080/"
        },
        "outputId": "6ed21d08-d8f0-474f-a3af-efbfad04af0f"
      },
      "source": [
        "# add code here\n",
        "round(metrics.r2_score(predictions, y_test),3)"
      ],
      "execution_count": 76,
      "outputs": [
        {
          "output_type": "execute_result",
          "data": {
            "text/plain": [
              "0.914"
            ]
          },
          "metadata": {},
          "execution_count": 76
        }
      ]
    },
    {
      "cell_type": "markdown",
      "metadata": {
        "id": "2jroGWezYNDT"
      },
      "source": [
        "# 2) K-nearest neighbor Classification"
      ]
    },
    {
      "cell_type": "markdown",
      "metadata": {
        "id": "WHlWn6YXYNDU"
      },
      "source": [
        "### Import packages and dataset"
      ]
    },
    {
      "cell_type": "code",
      "metadata": {
        "id": "xJAjpGbYYNDU"
      },
      "source": [
        "# import numpy, pandas, matplotlib, seaborn\n",
        "# add code here\n",
        "import numpy as np\n",
        "import pandas as pd\n",
        "import matplotlib.pyplot as plt\n",
        "import seaborn as sns\n",
        "%matplotlib inline"
      ],
      "execution_count": 77,
      "outputs": []
    },
    {
      "cell_type": "markdown",
      "metadata": {
        "id": "8RWyQOGrYNDV"
      },
      "source": [
        "**Read classified_data.txt using pandas and call head() to show first few records. Call this dataframe \"df\"** <br>\n",
        "Use \"index_col\" parameter to index the dataframe according to the first column. Otherwise, a new column would get created."
      ]
    },
    {
      "cell_type": "code",
      "metadata": {
        "id": "0GDXB_9GYNDV",
        "colab": {
          "base_uri": "https://localhost:8080/",
          "height": 203
        },
        "outputId": "1bbd357b-87ac-4921-e0aa-667fed9b1473"
      },
      "source": [
        "# add code here\n",
        "#classified_path= \"/content/gdrive/MyDrive/synapse_w2/classified_data.txt\"\n",
        "df  = pd.read_csv(\"/content/gdrive/MyDrive/synapse_w2/classified_data.txt\", index_col=0)\n",
        "df.head(5)"
      ],
      "execution_count": 78,
      "outputs": [
        {
          "output_type": "execute_result",
          "data": {
            "text/html": [
              "<div>\n",
              "<style scoped>\n",
              "    .dataframe tbody tr th:only-of-type {\n",
              "        vertical-align: middle;\n",
              "    }\n",
              "\n",
              "    .dataframe tbody tr th {\n",
              "        vertical-align: top;\n",
              "    }\n",
              "\n",
              "    .dataframe thead th {\n",
              "        text-align: right;\n",
              "    }\n",
              "</style>\n",
              "<table border=\"1\" class=\"dataframe\">\n",
              "  <thead>\n",
              "    <tr style=\"text-align: right;\">\n",
              "      <th></th>\n",
              "      <th>WTT</th>\n",
              "      <th>PTI</th>\n",
              "      <th>EQW</th>\n",
              "      <th>SBI</th>\n",
              "      <th>LQE</th>\n",
              "      <th>QWG</th>\n",
              "      <th>FDJ</th>\n",
              "      <th>PJF</th>\n",
              "      <th>HQE</th>\n",
              "      <th>NXJ</th>\n",
              "      <th>TARGET CLASS</th>\n",
              "    </tr>\n",
              "  </thead>\n",
              "  <tbody>\n",
              "    <tr>\n",
              "      <th>0</th>\n",
              "      <td>0.913917</td>\n",
              "      <td>1.162073</td>\n",
              "      <td>0.567946</td>\n",
              "      <td>0.755464</td>\n",
              "      <td>0.780862</td>\n",
              "      <td>0.352608</td>\n",
              "      <td>0.759697</td>\n",
              "      <td>0.643798</td>\n",
              "      <td>0.879422</td>\n",
              "      <td>1.231409</td>\n",
              "      <td>1</td>\n",
              "    </tr>\n",
              "    <tr>\n",
              "      <th>1</th>\n",
              "      <td>0.635632</td>\n",
              "      <td>1.003722</td>\n",
              "      <td>0.535342</td>\n",
              "      <td>0.825645</td>\n",
              "      <td>0.924109</td>\n",
              "      <td>0.648450</td>\n",
              "      <td>0.675334</td>\n",
              "      <td>1.013546</td>\n",
              "      <td>0.621552</td>\n",
              "      <td>1.492702</td>\n",
              "      <td>0</td>\n",
              "    </tr>\n",
              "    <tr>\n",
              "      <th>2</th>\n",
              "      <td>0.721360</td>\n",
              "      <td>1.201493</td>\n",
              "      <td>0.921990</td>\n",
              "      <td>0.855595</td>\n",
              "      <td>1.526629</td>\n",
              "      <td>0.720781</td>\n",
              "      <td>1.626351</td>\n",
              "      <td>1.154483</td>\n",
              "      <td>0.957877</td>\n",
              "      <td>1.285597</td>\n",
              "      <td>0</td>\n",
              "    </tr>\n",
              "    <tr>\n",
              "      <th>3</th>\n",
              "      <td>1.234204</td>\n",
              "      <td>1.386726</td>\n",
              "      <td>0.653046</td>\n",
              "      <td>0.825624</td>\n",
              "      <td>1.142504</td>\n",
              "      <td>0.875128</td>\n",
              "      <td>1.409708</td>\n",
              "      <td>1.380003</td>\n",
              "      <td>1.522692</td>\n",
              "      <td>1.153093</td>\n",
              "      <td>1</td>\n",
              "    </tr>\n",
              "    <tr>\n",
              "      <th>4</th>\n",
              "      <td>1.279491</td>\n",
              "      <td>0.949750</td>\n",
              "      <td>0.627280</td>\n",
              "      <td>0.668976</td>\n",
              "      <td>1.232537</td>\n",
              "      <td>0.703727</td>\n",
              "      <td>1.115596</td>\n",
              "      <td>0.646691</td>\n",
              "      <td>1.463812</td>\n",
              "      <td>1.419167</td>\n",
              "      <td>1</td>\n",
              "    </tr>\n",
              "  </tbody>\n",
              "</table>\n",
              "</div>"
            ],
            "text/plain": [
              "        WTT       PTI       EQW  ...       HQE       NXJ  TARGET CLASS\n",
              "0  0.913917  1.162073  0.567946  ...  0.879422  1.231409             1\n",
              "1  0.635632  1.003722  0.535342  ...  0.621552  1.492702             0\n",
              "2  0.721360  1.201493  0.921990  ...  0.957877  1.285597             0\n",
              "3  1.234204  1.386726  0.653046  ...  1.522692  1.153093             1\n",
              "4  1.279491  0.949750  0.627280  ...  1.463812  1.419167             1\n",
              "\n",
              "[5 rows x 11 columns]"
            ]
          },
          "metadata": {},
          "execution_count": 78
        }
      ]
    },
    {
      "cell_type": "markdown",
      "metadata": {
        "id": "QPOM6rXpYNDW"
      },
      "source": [
        "### Exloratory Data Analysis (EDA)"
      ]
    },
    {
      "cell_type": "markdown",
      "metadata": {
        "id": "2J-RhwE5YNDW"
      },
      "source": [
        "**'info()' method to check the data types and number**"
      ]
    },
    {
      "cell_type": "code",
      "metadata": {
        "id": "LQ27teSgYNDW",
        "colab": {
          "base_uri": "https://localhost:8080/"
        },
        "outputId": "266e77a2-9dbc-4914-e7dc-b2dbe2f0484c"
      },
      "source": [
        "# add code here\n",
        "df.info()"
      ],
      "execution_count": 79,
      "outputs": [
        {
          "output_type": "stream",
          "name": "stdout",
          "text": [
            "<class 'pandas.core.frame.DataFrame'>\n",
            "Int64Index: 1000 entries, 0 to 999\n",
            "Data columns (total 11 columns):\n",
            " #   Column        Non-Null Count  Dtype  \n",
            "---  ------        --------------  -----  \n",
            " 0   WTT           1000 non-null   float64\n",
            " 1   PTI           1000 non-null   float64\n",
            " 2   EQW           1000 non-null   float64\n",
            " 3   SBI           1000 non-null   float64\n",
            " 4   LQE           1000 non-null   float64\n",
            " 5   QWG           1000 non-null   float64\n",
            " 6   FDJ           1000 non-null   float64\n",
            " 7   PJF           1000 non-null   float64\n",
            " 8   HQE           1000 non-null   float64\n",
            " 9   NXJ           1000 non-null   float64\n",
            " 10  TARGET CLASS  1000 non-null   int64  \n",
            "dtypes: float64(10), int64(1)\n",
            "memory usage: 93.8 KB\n"
          ]
        }
      ]
    },
    {
      "cell_type": "markdown",
      "metadata": {
        "id": "lwSF-PxbYNDX"
      },
      "source": [
        "**Get the statistical summary of the data set** <br>\n",
        "Hint: describe()"
      ]
    },
    {
      "cell_type": "code",
      "metadata": {
        "id": "g7XvMQ5eYNDX",
        "colab": {
          "base_uri": "https://localhost:8080/",
          "height": 295
        },
        "outputId": "86d89496-2478-43ae-c0c1-a709aa8d189b"
      },
      "source": [
        "# add code here\n",
        "df.describe()"
      ],
      "execution_count": 80,
      "outputs": [
        {
          "output_type": "execute_result",
          "data": {
            "text/html": [
              "<div>\n",
              "<style scoped>\n",
              "    .dataframe tbody tr th:only-of-type {\n",
              "        vertical-align: middle;\n",
              "    }\n",
              "\n",
              "    .dataframe tbody tr th {\n",
              "        vertical-align: top;\n",
              "    }\n",
              "\n",
              "    .dataframe thead th {\n",
              "        text-align: right;\n",
              "    }\n",
              "</style>\n",
              "<table border=\"1\" class=\"dataframe\">\n",
              "  <thead>\n",
              "    <tr style=\"text-align: right;\">\n",
              "      <th></th>\n",
              "      <th>WTT</th>\n",
              "      <th>PTI</th>\n",
              "      <th>EQW</th>\n",
              "      <th>SBI</th>\n",
              "      <th>LQE</th>\n",
              "      <th>QWG</th>\n",
              "      <th>FDJ</th>\n",
              "      <th>PJF</th>\n",
              "      <th>HQE</th>\n",
              "      <th>NXJ</th>\n",
              "      <th>TARGET CLASS</th>\n",
              "    </tr>\n",
              "  </thead>\n",
              "  <tbody>\n",
              "    <tr>\n",
              "      <th>count</th>\n",
              "      <td>1000.000000</td>\n",
              "      <td>1000.000000</td>\n",
              "      <td>1000.000000</td>\n",
              "      <td>1000.000000</td>\n",
              "      <td>1000.000000</td>\n",
              "      <td>1000.000000</td>\n",
              "      <td>1000.000000</td>\n",
              "      <td>1000.000000</td>\n",
              "      <td>1000.000000</td>\n",
              "      <td>1000.000000</td>\n",
              "      <td>1000.00000</td>\n",
              "    </tr>\n",
              "    <tr>\n",
              "      <th>mean</th>\n",
              "      <td>0.949682</td>\n",
              "      <td>1.114303</td>\n",
              "      <td>0.834127</td>\n",
              "      <td>0.682099</td>\n",
              "      <td>1.032336</td>\n",
              "      <td>0.943534</td>\n",
              "      <td>0.963422</td>\n",
              "      <td>1.071960</td>\n",
              "      <td>1.158251</td>\n",
              "      <td>1.362725</td>\n",
              "      <td>0.50000</td>\n",
              "    </tr>\n",
              "    <tr>\n",
              "      <th>std</th>\n",
              "      <td>0.289635</td>\n",
              "      <td>0.257085</td>\n",
              "      <td>0.291554</td>\n",
              "      <td>0.229645</td>\n",
              "      <td>0.243413</td>\n",
              "      <td>0.256121</td>\n",
              "      <td>0.255118</td>\n",
              "      <td>0.288982</td>\n",
              "      <td>0.293738</td>\n",
              "      <td>0.204225</td>\n",
              "      <td>0.50025</td>\n",
              "    </tr>\n",
              "    <tr>\n",
              "      <th>min</th>\n",
              "      <td>0.174412</td>\n",
              "      <td>0.441398</td>\n",
              "      <td>0.170924</td>\n",
              "      <td>0.045027</td>\n",
              "      <td>0.315307</td>\n",
              "      <td>0.262389</td>\n",
              "      <td>0.295228</td>\n",
              "      <td>0.299476</td>\n",
              "      <td>0.365157</td>\n",
              "      <td>0.639693</td>\n",
              "      <td>0.00000</td>\n",
              "    </tr>\n",
              "    <tr>\n",
              "      <th>25%</th>\n",
              "      <td>0.742358</td>\n",
              "      <td>0.942071</td>\n",
              "      <td>0.615451</td>\n",
              "      <td>0.515010</td>\n",
              "      <td>0.870855</td>\n",
              "      <td>0.761064</td>\n",
              "      <td>0.784407</td>\n",
              "      <td>0.866306</td>\n",
              "      <td>0.934340</td>\n",
              "      <td>1.222623</td>\n",
              "      <td>0.00000</td>\n",
              "    </tr>\n",
              "    <tr>\n",
              "      <th>50%</th>\n",
              "      <td>0.940475</td>\n",
              "      <td>1.118486</td>\n",
              "      <td>0.813264</td>\n",
              "      <td>0.676835</td>\n",
              "      <td>1.035824</td>\n",
              "      <td>0.941502</td>\n",
              "      <td>0.945333</td>\n",
              "      <td>1.065500</td>\n",
              "      <td>1.165556</td>\n",
              "      <td>1.375368</td>\n",
              "      <td>0.50000</td>\n",
              "    </tr>\n",
              "    <tr>\n",
              "      <th>75%</th>\n",
              "      <td>1.163295</td>\n",
              "      <td>1.307904</td>\n",
              "      <td>1.028340</td>\n",
              "      <td>0.834317</td>\n",
              "      <td>1.198270</td>\n",
              "      <td>1.123060</td>\n",
              "      <td>1.134852</td>\n",
              "      <td>1.283156</td>\n",
              "      <td>1.383173</td>\n",
              "      <td>1.504832</td>\n",
              "      <td>1.00000</td>\n",
              "    </tr>\n",
              "    <tr>\n",
              "      <th>max</th>\n",
              "      <td>1.721779</td>\n",
              "      <td>1.833757</td>\n",
              "      <td>1.722725</td>\n",
              "      <td>1.634884</td>\n",
              "      <td>1.650050</td>\n",
              "      <td>1.666902</td>\n",
              "      <td>1.713342</td>\n",
              "      <td>1.785420</td>\n",
              "      <td>1.885690</td>\n",
              "      <td>1.893950</td>\n",
              "      <td>1.00000</td>\n",
              "    </tr>\n",
              "  </tbody>\n",
              "</table>\n",
              "</div>"
            ],
            "text/plain": [
              "               WTT          PTI  ...          NXJ  TARGET CLASS\n",
              "count  1000.000000  1000.000000  ...  1000.000000    1000.00000\n",
              "mean      0.949682     1.114303  ...     1.362725       0.50000\n",
              "std       0.289635     0.257085  ...     0.204225       0.50025\n",
              "min       0.174412     0.441398  ...     0.639693       0.00000\n",
              "25%       0.742358     0.942071  ...     1.222623       0.00000\n",
              "50%       0.940475     1.118486  ...     1.375368       0.50000\n",
              "75%       1.163295     1.307904  ...     1.504832       1.00000\n",
              "max       1.721779     1.833757  ...     1.893950       1.00000\n",
              "\n",
              "[8 rows x 11 columns]"
            ]
          },
          "metadata": {},
          "execution_count": 80
        }
      ]
    },
    {
      "cell_type": "markdown",
      "metadata": {
        "id": "LDYWYnvwYNDY"
      },
      "source": [
        "### Check the spread of the features"
      ]
    },
    {
      "cell_type": "markdown",
      "metadata": {
        "id": "Q0hgD8wlYNDY"
      },
      "source": [
        "**Store the column names in a list**"
      ]
    },
    {
      "cell_type": "code",
      "metadata": {
        "id": "rxAYeNSzYNDY",
        "colab": {
          "base_uri": "https://localhost:8080/"
        },
        "outputId": "c7758bd7-5022-451f-b222-4b6dd1eb04ce"
      },
      "source": [
        "# add code here\n",
        "classified_list=list(df)\n",
        "for col1_name in classified_list: \n",
        "    print(col1_name)"
      ],
      "execution_count": 81,
      "outputs": [
        {
          "output_type": "stream",
          "name": "stdout",
          "text": [
            "WTT\n",
            "PTI\n",
            "EQW\n",
            "SBI\n",
            "LQE\n",
            "QWG\n",
            "FDJ\n",
            "PJF\n",
            "HQE\n",
            "NXJ\n",
            "TARGET CLASS\n"
          ]
        }
      ]
    },
    {
      "cell_type": "markdown",
      "metadata": {
        "id": "N3g0ISUGYNDZ"
      },
      "source": [
        "**Run a 'for' loop to draw boxplots of all the features for '0' and '1' TARGET CLASS**<br>\n",
        "Hint: Loop through each of the 10 features and draw a separate boxplot. You should have 10 boxplots in total. <br>\n",
        "Refer seaborn boxplot() "
      ]
    },
    {
      "cell_type": "code",
      "metadata": {
        "scrolled": false,
        "id": "kORQOo9gYNDZ",
        "colab": {
          "base_uri": "https://localhost:8080/",
          "height": 1000
        },
        "outputId": "d518b6df-141e-4800-b076-606c85e98ef0"
      },
      "source": [
        "# add code here\n",
        "new_col=classified_list[:-1]#remove target class\n",
        "for i in new_col:\n",
        "  sns.boxplot(y=i, x='TARGET CLASS', data=df)\n",
        "  plt.show()\n"
      ],
      "execution_count": 82,
      "outputs": [
        {
          "output_type": "display_data",
          "data": {
            "image/png": "[encoded data removed]",
            "text/plain": [
              "<Figure size 432x288 with 1 Axes>"
            ]
          },
          "metadata": {
            "needs_background": "light"
          }
        },
        {
          "output_type": "display_data",
          "data": {
            "image/png": "[encoded data removed]",
            "text/plain": [
              "<Figure size 432x288 with 1 Axes>"
            ]
          },
          "metadata": {
            "needs_background": "light"
          }
        },
        {
          "output_type": "display_data",
          "data": {
            "image/png": "[encoded data removed]",
            "text/plain": [
              "<Figure size 432x288 with 1 Axes>"
            ]
          },
          "metadata": {
            "needs_background": "light"
          }
        },
        {
          "output_type": "display_data",
          "data": {
            "image/png": "[encoded data removed]",
            "text/plain": [
              "<Figure size 432x288 with 1 Axes>"
            ]
          },
          "metadata": {
            "needs_background": "light"
          }
        },
        {
          "output_type": "display_data",
          "data": {
            "image/png": "[encoded data removed]",
            "text/plain": [
              "<Figure size 432x288 with 1 Axes>"
            ]
          },
          "metadata": {
            "needs_background": "light"
          }
        },
        {
          "output_type": "display_data",
          "data": {
            "image/png": "[encoded data removed]",
            "text/plain": [
              "<Figure size 432x288 with 1 Axes>"
            ]
          },
          "metadata": {
            "needs_background": "light"
          }
        },
        {
          "output_type": "display_data",
          "data": {
            "image/png": "[encoded data removed]",
            "text/plain": [
              "<Figure size 432x288 with 1 Axes>"
            ]
          },
          "metadata": {
            "needs_background": "light"
          }
        },
        {
          "output_type": "display_data",
          "data": {
            "image/png": "[encoded data removed]",
            "text/plain": [
              "<Figure size 432x288 with 1 Axes>"
            ]
          },
          "metadata": {
            "needs_background": "light"
          }
        },
        {
          "output_type": "display_data",
          "data": {
            "image/png": "[encoded data removed]",
            "text/plain": [
              "<Figure size 432x288 with 1 Axes>"
            ]
          },
          "metadata": {
            "needs_background": "light"
          }
        },
        {
          "output_type": "display_data",
          "data": {
            "image/png": "[encoded data removed]",
            "text/plain": [
              "<Figure size 432x288 with 1 Axes>"
            ]
          },
          "metadata": {
            "needs_background": "light"
          }
        }
      ]
    },
    {
      "cell_type": "markdown",
      "metadata": {
        "id": "OIFaYgUWYNDa"
      },
      "source": [
        "### Standardize the features using sklearn.preprocessing \n",
        "Why should we standardize?<br>\n",
        "Variables that are measured at different scales do not contribute equally to the model fitting & model learned function and might end up creating a bias. Thus, to deal with this potential problem feature-wise standardized (μ=0, σ=1) is usually used prior to model fitting.<br>\n",
        "<br>\n",
        "Go through this link for a better understanding:<br>\n",
        "https://towardsdatascience.com/how-and-why-to-standardize-your-data-996926c2c832"
      ]
    },
    {
      "cell_type": "markdown",
      "metadata": {
        "id": "EzMEGA9fYNDa"
      },
      "source": [
        "**import StandardScaler from Sklearn and instantiate it to a variable called \"scaler\"**"
      ]
    },
    {
      "cell_type": "code",
      "metadata": {
        "id": "HVWU81uvYNDb"
      },
      "source": [
        "# add code here\n",
        "from sklearn.preprocessing import StandardScaler\n",
        "scaler= StandardScaler()"
      ],
      "execution_count": 83,
      "outputs": []
    },
    {
      "cell_type": "markdown",
      "metadata": {
        "id": "HlKUjW9XYNDb"
      },
      "source": [
        "**Fit only the features data to this scaler (leaving the TARGET CLASS column out) and then transform**<br>\n",
        "Hint: scaler.fit() and scaler.transform()"
      ]
    },
    {
      "cell_type": "code",
      "metadata": {
        "id": "MCbkapp4YNDb",
        "colab": {
          "base_uri": "https://localhost:8080/"
        },
        "outputId": "28b0d3a7-5a93-4d08-d1b6-2814a35d7ff2"
      },
      "source": [
        "# add code here\n",
        "scaler.fit(df[new_col])\n",
        "arr=scaler.transform(df[new_col])\n",
        "print(arr)"
      ],
      "execution_count": 84,
      "outputs": [
        {
          "output_type": "stream",
          "name": "stdout",
          "text": [
            "[[-0.12354188  0.18590747 -0.91343069 ... -1.48236813 -0.9497194\n",
            "  -0.64331425]\n",
            " [-1.08483602 -0.43034845 -1.02531333 ... -0.20224031 -1.82805088\n",
            "   0.63675862]\n",
            " [-0.78870217  0.33931821  0.30151137 ...  0.28570652 -0.68249379\n",
            "  -0.37784986]\n",
            " ...\n",
            " [ 0.64177714 -0.51308341 -0.17920486 ... -2.36249443 -0.81426092\n",
            "   0.11159651]\n",
            " [ 0.46707241 -0.98278576 -1.46519359 ... -0.03677699  0.40602453\n",
            "  -0.85567   ]\n",
            " [-0.38765353 -0.59589427 -1.4313981  ... -0.56778932  0.3369971\n",
            "   0.01034996]]\n"
          ]
        }
      ]
    },
    {
      "cell_type": "markdown",
      "metadata": {
        "id": "uZTbl8UBYNDc"
      },
      "source": [
        "**Scaler.transform() will return an array. We need to convert this into a dataframe. Do this and add the column names to the dataframe. Call this new dataframe as \"df_feat\". Call head() on this df**<br>\n",
        "Note: The final dataframe will have the initial columns except the \"TARGET CLASS\"."
      ]
    },
    {
      "cell_type": "code",
      "metadata": {
        "id": "m6DnntqtYNDc",
        "colab": {
          "base_uri": "https://localhost:8080/",
          "height": 203
        },
        "outputId": "f522c434-f9a3-42ef-d628-7358e11bd71c"
      },
      "source": [
        "# add code here\n",
        "df_feat= pd.DataFrame(arr, columns=[new_col])\n",
        "df_feat.head()"
      ],
      "execution_count": 85,
      "outputs": [
        {
          "output_type": "execute_result",
          "data": {
            "text/html": [
              "<div>\n",
              "<style scoped>\n",
              "    .dataframe tbody tr th:only-of-type {\n",
              "        vertical-align: middle;\n",
              "    }\n",
              "\n",
              "    .dataframe tbody tr th {\n",
              "        vertical-align: top;\n",
              "    }\n",
              "\n",
              "    .dataframe thead tr th {\n",
              "        text-align: left;\n",
              "    }\n",
              "</style>\n",
              "<table border=\"1\" class=\"dataframe\">\n",
              "  <thead>\n",
              "    <tr>\n",
              "      <th></th>\n",
              "      <th>WTT</th>\n",
              "      <th>PTI</th>\n",
              "      <th>EQW</th>\n",
              "      <th>SBI</th>\n",
              "      <th>LQE</th>\n",
              "      <th>QWG</th>\n",
              "      <th>FDJ</th>\n",
              "      <th>PJF</th>\n",
              "      <th>HQE</th>\n",
              "      <th>NXJ</th>\n",
              "    </tr>\n",
              "  </thead>\n",
              "  <tbody>\n",
              "    <tr>\n",
              "      <th>0</th>\n",
              "      <td>-0.123542</td>\n",
              "      <td>0.185907</td>\n",
              "      <td>-0.913431</td>\n",
              "      <td>0.319629</td>\n",
              "      <td>-1.033637</td>\n",
              "      <td>-2.308375</td>\n",
              "      <td>-0.798951</td>\n",
              "      <td>-1.482368</td>\n",
              "      <td>-0.949719</td>\n",
              "      <td>-0.643314</td>\n",
              "    </tr>\n",
              "    <tr>\n",
              "      <th>1</th>\n",
              "      <td>-1.084836</td>\n",
              "      <td>-0.430348</td>\n",
              "      <td>-1.025313</td>\n",
              "      <td>0.625388</td>\n",
              "      <td>-0.444847</td>\n",
              "      <td>-1.152706</td>\n",
              "      <td>-1.129797</td>\n",
              "      <td>-0.202240</td>\n",
              "      <td>-1.828051</td>\n",
              "      <td>0.636759</td>\n",
              "    </tr>\n",
              "    <tr>\n",
              "      <th>2</th>\n",
              "      <td>-0.788702</td>\n",
              "      <td>0.339318</td>\n",
              "      <td>0.301511</td>\n",
              "      <td>0.755873</td>\n",
              "      <td>2.031693</td>\n",
              "      <td>-0.870156</td>\n",
              "      <td>2.599818</td>\n",
              "      <td>0.285707</td>\n",
              "      <td>-0.682494</td>\n",
              "      <td>-0.377850</td>\n",
              "    </tr>\n",
              "    <tr>\n",
              "      <th>3</th>\n",
              "      <td>0.982841</td>\n",
              "      <td>1.060193</td>\n",
              "      <td>-0.621399</td>\n",
              "      <td>0.625299</td>\n",
              "      <td>0.452820</td>\n",
              "      <td>-0.267220</td>\n",
              "      <td>1.750208</td>\n",
              "      <td>1.066491</td>\n",
              "      <td>1.241325</td>\n",
              "      <td>-1.026987</td>\n",
              "    </tr>\n",
              "    <tr>\n",
              "      <th>4</th>\n",
              "      <td>1.139275</td>\n",
              "      <td>-0.640392</td>\n",
              "      <td>-0.709819</td>\n",
              "      <td>-0.057175</td>\n",
              "      <td>0.822886</td>\n",
              "      <td>-0.936773</td>\n",
              "      <td>0.596782</td>\n",
              "      <td>-1.472352</td>\n",
              "      <td>1.040772</td>\n",
              "      <td>0.276510</td>\n",
              "    </tr>\n",
              "  </tbody>\n",
              "</table>\n",
              "</div>"
            ],
            "text/plain": [
              "        WTT       PTI       EQW  ...       PJF       HQE       NXJ\n",
              "0 -0.123542  0.185907 -0.913431  ... -1.482368 -0.949719 -0.643314\n",
              "1 -1.084836 -0.430348 -1.025313  ... -0.202240 -1.828051  0.636759\n",
              "2 -0.788702  0.339318  0.301511  ...  0.285707 -0.682494 -0.377850\n",
              "3  0.982841  1.060193 -0.621399  ...  1.066491  1.241325 -1.026987\n",
              "4  1.139275 -0.640392 -0.709819  ... -1.472352  1.040772  0.276510\n",
              "\n",
              "[5 rows x 10 columns]"
            ]
          },
          "metadata": {},
          "execution_count": 85
        }
      ]
    },
    {
      "cell_type": "markdown",
      "metadata": {
        "id": "vWiXgySxYNDd"
      },
      "source": [
        "### Train/Test split"
      ]
    },
    {
      "cell_type": "markdown",
      "metadata": {
        "id": "xgJQPOfXYNDd"
      },
      "source": [
        "**Set X to be equal to df_feat and set y accordingly. As you know, X contains our training features and y contains our target.**<br>\n",
        "Hint: y can be taken directly from the initaial dataframe \"df\""
      ]
    },
    {
      "cell_type": "code",
      "metadata": {
        "id": "W94s-2-jYNDd"
      },
      "source": [
        "# add code here\n",
        "X=df_feat\n",
        "y=df['TARGET CLASS']"
      ],
      "execution_count": 86,
      "outputs": []
    },
    {
      "cell_type": "markdown",
      "metadata": {
        "id": "5tyZdg0nYNDd"
      },
      "source": [
        "**Import train_test_split function from scikit-learn**<br>\n",
        "**Create X and y train and test splits in one command using a test size of 0.3 and a random seed**<br>\n",
        "They should be called X_train, X_test, y_train, y_test"
      ]
    },
    {
      "cell_type": "code",
      "metadata": {
        "id": "wiNlmT2IYNDe"
      },
      "source": [
        "# add code here\n",
        "X_train, X_test, y_train, y_test = train_test_split(X, y, test_size=0.3, random_state=0)"
      ],
      "execution_count": 87,
      "outputs": []
    },
    {
      "cell_type": "markdown",
      "metadata": {
        "id": "N6tS1j4iYNDe"
      },
      "source": [
        "### Model fit and training"
      ]
    },
    {
      "cell_type": "markdown",
      "metadata": {
        "id": "7A_LeaNAYNDe"
      },
      "source": [
        "**import KNeighborsClassifier from sklearn and initialize it with neighbours = 1. Fit this on X_train and y_train**"
      ]
    },
    {
      "cell_type": "code",
      "metadata": {
        "id": "kaSJJTYDYNDf",
        "colab": {
          "base_uri": "https://localhost:8080/"
        },
        "outputId": "bd8ea3aa-7a2a-4c12-b910-94fdd2c188e8"
      },
      "source": [
        "# add code here\n",
        "from sklearn.neighbors import KNeighborsClassifier\n",
        "\n",
        "model = KNeighborsClassifier(n_neighbors=1)\n",
        "model.fit(X_train, y_train)\n"
      ],
      "execution_count": 88,
      "outputs": [
        {
          "output_type": "execute_result",
          "data": {
            "text/plain": [
              "KNeighborsClassifier(algorithm='auto', leaf_size=30, metric='minkowski',\n",
              "                     metric_params=None, n_jobs=None, n_neighbors=1, p=2,\n",
              "                     weights='uniform')"
            ]
          },
          "metadata": {},
          "execution_count": 88
        }
      ]
    },
    {
      "cell_type": "markdown",
      "metadata": {
        "id": "eAEVkt6LYNDf"
      },
      "source": [
        "**Using this fitted model, predict on X_test. Store these predictions in variable called pred.**"
      ]
    },
    {
      "cell_type": "code",
      "metadata": {
        "id": "rsnjjXaMYNDf"
      },
      "source": [
        "# add code here\n",
        "pred=model.predict(X_test)"
      ],
      "execution_count": 89,
      "outputs": []
    },
    {
      "cell_type": "markdown",
      "metadata": {
        "id": "7IcCOyuOYNDf"
      },
      "source": [
        "**Let us check how correct these predictions are.<br>\n",
        "Print a classification report of y_test and pred**<br>\n",
        "Hint: sklearn classification_report"
      ]
    },
    {
      "cell_type": "code",
      "metadata": {
        "id": "HC-20WeuYNDg",
        "colab": {
          "base_uri": "https://localhost:8080/"
        },
        "outputId": "c01c5f22-09a3-4a9b-96a4-065f26cfa87e"
      },
      "source": [
        "# add code here\n",
        "from sklearn.metrics import classification_report\n",
        "op=classification_report(y_test, pred, output_dict=True)\n",
        "for key,value in op.items():\n",
        "  print(key, ':', value)"
      ],
      "execution_count": 90,
      "outputs": [
        {
          "output_type": "stream",
          "name": "stdout",
          "text": [
            "0 : {'precision': 0.8865248226950354, 'recall': 0.8928571428571429, 'f1-score': 0.8896797153024911, 'support': 140}\n",
            "1 : {'precision': 0.9056603773584906, 'recall': 0.9, 'f1-score': 0.90282131661442, 'support': 160}\n",
            "accuracy : 0.8966666666666666\n",
            "macro avg : {'precision': 0.896092600026763, 'recall': 0.8964285714285715, 'f1-score': 0.8962505159584555, 'support': 300}\n",
            "weighted avg : {'precision': 0.8967304518488781, 'recall': 0.8966666666666666, 'f1-score': 0.8966885693355198, 'support': 300}\n"
          ]
        }
      ]
    },
    {
      "cell_type": "markdown",
      "metadata": {
        "id": "exGvX0C5YNDg"
      },
      "source": [
        "**Print the accuracy using numpy and round it to 3 decimal places.**"
      ]
    },
    {
      "cell_type": "code",
      "metadata": {
        "id": "sSoOx6MiYNDg",
        "colab": {
          "base_uri": "https://localhost:8080/"
        },
        "outputId": "afc43905-f50b-49f6-b6be-4c187fa2b687"
      },
      "source": [
        "# add code here\n",
        "print(round(op[\"accuracy\"], 3))\n"
      ],
      "execution_count": 91,
      "outputs": [
        {
          "output_type": "stream",
          "name": "stdout",
          "text": [
            "0.897\n"
          ]
        }
      ]
    },
    {
      "cell_type": "markdown",
      "metadata": {
        "id": "UWjjrBrbYNDh"
      },
      "source": [
        "### Choosing optimal 'k'"
      ]
    },
    {
      "cell_type": "markdown",
      "metadata": {
        "id": "IT_5lBDVYNDh"
      },
      "source": [
        "**Above, we chose n_neighbours to be equal to 1. Choosing a small value of K leads to unstable decision boundaries. <br>\n",
        "We need to select n_neighbours by calculating the accuracy for every value of n from 1 to 60 and then choosing the one which gives the highest accuracy.**"
      ]
    },
    {
      "cell_type": "code",
      "metadata": {
        "id": "xPKm3inZYNDh",
        "colab": {
          "base_uri": "https://localhost:8080/"
        },
        "outputId": "645c738f-ce1b-414c-8acb-6fa6e8794707"
      },
      "source": [
        "# Do the same as we did above, but this time make a loop from n = 1 to n = 60 and append the accuracy\n",
        "# for each in a list\n",
        "d={}\n",
        "for i in range(60):\n",
        "  model = KNeighborsClassifier(n_neighbors=i+1)\n",
        "  model.fit(X_train, y_train)\n",
        "  pred=model.predict(X_test)\n",
        "  op=classification_report(y_test, pred, output_dict=True)\n",
        "  d[i]=round(op['accuracy'], 3)\n",
        "sorted_d=sorted(d.items(), key=lambda x: x[1], reverse=True)\n",
        "print(sorted_d[0])\n",
        "\n",
        "# add code here\n"
      ],
      "execution_count": 92,
      "outputs": [
        {
          "output_type": "stream",
          "name": "stdout",
          "text": [
            "(54, 0.94)\n"
          ]
        }
      ]
    },
    {
      "cell_type": "markdown",
      "metadata": {
        "id": "5LUl_JMUYNDi"
      },
      "source": [
        "**Plot a graph of K value vs Accuracy**"
      ]
    },
    {
      "cell_type": "code",
      "metadata": {
        "id": "DvsbINxsYNDi",
        "colab": {
          "base_uri": "https://localhost:8080/",
          "height": 265
        },
        "outputId": "edae5a0e-da0e-4e0e-ca8b-b637dbf74043"
      },
      "source": [
        "# add code here\n",
        "keys = list(d.keys())\n",
        "value = list(d.values())\n",
        "plt.plot(keys, value)\n",
        "plt.show()"
      ],
      "execution_count": 93,
      "outputs": [
        {
          "output_type": "display_data",
          "data": {
            "image/png": "[encoded data removed]",
            "text/plain": [
              "<Figure size 432x288 with 1 Axes>"
            ]
          },
          "metadata": {
            "needs_background": "light"
          }
        }
      ]
    },
    {
      "cell_type": "markdown",
      "metadata": {
        "id": "KO4KK1WEYNDi"
      },
      "source": [
        "**Choose the best value of n_neighbours and give a reason why and also print the accuracy**"
      ]
    },
    {
      "cell_type": "code",
      "metadata": {
        "id": "SWf5hh-jYNDj"
      },
      "source": [
        "# add code here "
      ],
      "execution_count": 94,
      "outputs": []
    },
    {
      "cell_type": "code",
      "metadata": {
        "id": "8gIMbzLJd8bu",
        "colab": {
          "base_uri": "https://localhost:8080/"
        },
        "outputId": "8fb0dfd8-e599-4a50-fd4e-4c5e34378a30"
      },
      "source": [
        "print(sorted_d[0]) #we sorted the dictionary and the highest accuracy obtained is the 0th element in the array and n_neighbour value is 54"
      ],
      "execution_count": 95,
      "outputs": [
        {
          "output_type": "stream",
          "name": "stdout",
          "text": [
            "(54, 0.94)\n"
          ]
        }
      ]
    },
    {
      "cell_type": "markdown",
      "metadata": {
        "id": "z4CBOAiOd9is"
      },
      "source": [
        "# 3). Decision Tree Classifier"
      ]
    },
    {
      "cell_type": "markdown",
      "metadata": {
        "id": "UXCHg4IQewph"
      },
      "source": [
        "<b>read the titanic_data.csv using pandas and show the dataframe</b>"
      ]
    },
    {
      "cell_type": "code",
      "metadata": {
        "id": "8dGi9n5meB94",
        "colab": {
          "base_uri": "https://localhost:8080/",
          "height": 417
        },
        "outputId": "9747eec8-aa35-4a57-cd23-c03e186b8ba6"
      },
      "source": [
        "#write code here\n",
        "from sklearn.tree import DecisionTreeClassifier\n",
        "titanic_path = \"/content/gdrive/MyDrive/synapse_w2/titanic_data.csv\"\n",
        "titanic_df = pd.read_csv(titanic_path)\n",
        "titanic_df['male'] = titanic_df['Sex'] == 'male'\n",
        "titanic_df"
      ],
      "execution_count": 96,
      "outputs": [
        {
          "output_type": "execute_result",
          "data": {
            "text/html": [
              "<div>\n",
              "<style scoped>\n",
              "    .dataframe tbody tr th:only-of-type {\n",
              "        vertical-align: middle;\n",
              "    }\n",
              "\n",
              "    .dataframe tbody tr th {\n",
              "        vertical-align: top;\n",
              "    }\n",
              "\n",
              "    .dataframe thead th {\n",
              "        text-align: right;\n",
              "    }\n",
              "</style>\n",
              "<table border=\"1\" class=\"dataframe\">\n",
              "  <thead>\n",
              "    <tr style=\"text-align: right;\">\n",
              "      <th></th>\n",
              "      <th>PassengerId</th>\n",
              "      <th>Survived</th>\n",
              "      <th>Pclass</th>\n",
              "      <th>Name</th>\n",
              "      <th>Sex</th>\n",
              "      <th>Age</th>\n",
              "      <th>SibSp</th>\n",
              "      <th>Parch</th>\n",
              "      <th>Ticket</th>\n",
              "      <th>Fare</th>\n",
              "      <th>Cabin</th>\n",
              "      <th>Embarked</th>\n",
              "      <th>male</th>\n",
              "    </tr>\n",
              "  </thead>\n",
              "  <tbody>\n",
              "    <tr>\n",
              "      <th>0</th>\n",
              "      <td>1</td>\n",
              "      <td>0</td>\n",
              "      <td>3</td>\n",
              "      <td>Braund, Mr. Owen Harris</td>\n",
              "      <td>male</td>\n",
              "      <td>22.0</td>\n",
              "      <td>1</td>\n",
              "      <td>0</td>\n",
              "      <td>A/5 21171</td>\n",
              "      <td>7.2500</td>\n",
              "      <td>NaN</td>\n",
              "      <td>S</td>\n",
              "      <td>True</td>\n",
              "    </tr>\n",
              "    <tr>\n",
              "      <th>1</th>\n",
              "      <td>2</td>\n",
              "      <td>1</td>\n",
              "      <td>1</td>\n",
              "      <td>Cumings, Mrs. John Bradley (Florence Briggs Th...</td>\n",
              "      <td>female</td>\n",
              "      <td>38.0</td>\n",
              "      <td>1</td>\n",
              "      <td>0</td>\n",
              "      <td>PC 17599</td>\n",
              "      <td>71.2833</td>\n",
              "      <td>C85</td>\n",
              "      <td>C</td>\n",
              "      <td>False</td>\n",
              "    </tr>\n",
              "    <tr>\n",
              "      <th>2</th>\n",
              "      <td>3</td>\n",
              "      <td>1</td>\n",
              "      <td>3</td>\n",
              "      <td>Heikkinen, Miss. Laina</td>\n",
              "      <td>female</td>\n",
              "      <td>26.0</td>\n",
              "      <td>0</td>\n",
              "      <td>0</td>\n",
              "      <td>STON/O2. 3101282</td>\n",
              "      <td>7.9250</td>\n",
              "      <td>NaN</td>\n",
              "      <td>S</td>\n",
              "      <td>False</td>\n",
              "    </tr>\n",
              "    <tr>\n",
              "      <th>3</th>\n",
              "      <td>4</td>\n",
              "      <td>1</td>\n",
              "      <td>1</td>\n",
              "      <td>Futrelle, Mrs. Jacques Heath (Lily May Peel)</td>\n",
              "      <td>female</td>\n",
              "      <td>35.0</td>\n",
              "      <td>1</td>\n",
              "      <td>0</td>\n",
              "      <td>113803</td>\n",
              "      <td>53.1000</td>\n",
              "      <td>C123</td>\n",
              "      <td>S</td>\n",
              "      <td>False</td>\n",
              "    </tr>\n",
              "    <tr>\n",
              "      <th>4</th>\n",
              "      <td>5</td>\n",
              "      <td>0</td>\n",
              "      <td>3</td>\n",
              "      <td>Allen, Mr. William Henry</td>\n",
              "      <td>male</td>\n",
              "      <td>35.0</td>\n",
              "      <td>0</td>\n",
              "      <td>0</td>\n",
              "      <td>373450</td>\n",
              "      <td>8.0500</td>\n",
              "      <td>NaN</td>\n",
              "      <td>S</td>\n",
              "      <td>True</td>\n",
              "    </tr>\n",
              "    <tr>\n",
              "      <th>...</th>\n",
              "      <td>...</td>\n",
              "      <td>...</td>\n",
              "      <td>...</td>\n",
              "      <td>...</td>\n",
              "      <td>...</td>\n",
              "      <td>...</td>\n",
              "      <td>...</td>\n",
              "      <td>...</td>\n",
              "      <td>...</td>\n",
              "      <td>...</td>\n",
              "      <td>...</td>\n",
              "      <td>...</td>\n",
              "      <td>...</td>\n",
              "    </tr>\n",
              "    <tr>\n",
              "      <th>886</th>\n",
              "      <td>887</td>\n",
              "      <td>0</td>\n",
              "      <td>2</td>\n",
              "      <td>Montvila, Rev. Juozas</td>\n",
              "      <td>male</td>\n",
              "      <td>27.0</td>\n",
              "      <td>0</td>\n",
              "      <td>0</td>\n",
              "      <td>211536</td>\n",
              "      <td>13.0000</td>\n",
              "      <td>NaN</td>\n",
              "      <td>S</td>\n",
              "      <td>True</td>\n",
              "    </tr>\n",
              "    <tr>\n",
              "      <th>887</th>\n",
              "      <td>888</td>\n",
              "      <td>1</td>\n",
              "      <td>1</td>\n",
              "      <td>Graham, Miss. Margaret Edith</td>\n",
              "      <td>female</td>\n",
              "      <td>19.0</td>\n",
              "      <td>0</td>\n",
              "      <td>0</td>\n",
              "      <td>112053</td>\n",
              "      <td>30.0000</td>\n",
              "      <td>B42</td>\n",
              "      <td>S</td>\n",
              "      <td>False</td>\n",
              "    </tr>\n",
              "    <tr>\n",
              "      <th>888</th>\n",
              "      <td>889</td>\n",
              "      <td>0</td>\n",
              "      <td>3</td>\n",
              "      <td>Johnston, Miss. Catherine Helen \"Carrie\"</td>\n",
              "      <td>female</td>\n",
              "      <td>NaN</td>\n",
              "      <td>1</td>\n",
              "      <td>2</td>\n",
              "      <td>W./C. 6607</td>\n",
              "      <td>23.4500</td>\n",
              "      <td>NaN</td>\n",
              "      <td>S</td>\n",
              "      <td>False</td>\n",
              "    </tr>\n",
              "    <tr>\n",
              "      <th>889</th>\n",
              "      <td>890</td>\n",
              "      <td>1</td>\n",
              "      <td>1</td>\n",
              "      <td>Behr, Mr. Karl Howell</td>\n",
              "      <td>male</td>\n",
              "      <td>26.0</td>\n",
              "      <td>0</td>\n",
              "      <td>0</td>\n",
              "      <td>111369</td>\n",
              "      <td>30.0000</td>\n",
              "      <td>C148</td>\n",
              "      <td>C</td>\n",
              "      <td>True</td>\n",
              "    </tr>\n",
              "    <tr>\n",
              "      <th>890</th>\n",
              "      <td>891</td>\n",
              "      <td>0</td>\n",
              "      <td>3</td>\n",
              "      <td>Dooley, Mr. Patrick</td>\n",
              "      <td>male</td>\n",
              "      <td>32.0</td>\n",
              "      <td>0</td>\n",
              "      <td>0</td>\n",
              "      <td>370376</td>\n",
              "      <td>7.7500</td>\n",
              "      <td>NaN</td>\n",
              "      <td>Q</td>\n",
              "      <td>True</td>\n",
              "    </tr>\n",
              "  </tbody>\n",
              "</table>\n",
              "<p>891 rows × 13 columns</p>\n",
              "</div>"
            ],
            "text/plain": [
              "     PassengerId  Survived  Pclass  ... Cabin Embarked   male\n",
              "0              1         0       3  ...   NaN        S   True\n",
              "1              2         1       1  ...   C85        C  False\n",
              "2              3         1       3  ...   NaN        S  False\n",
              "3              4         1       1  ...  C123        S  False\n",
              "4              5         0       3  ...   NaN        S   True\n",
              "..           ...       ...     ...  ...   ...      ...    ...\n",
              "886          887         0       2  ...   NaN        S   True\n",
              "887          888         1       1  ...   B42        S  False\n",
              "888          889         0       3  ...   NaN        S  False\n",
              "889          890         1       1  ...  C148        C   True\n",
              "890          891         0       3  ...   NaN        Q   True\n",
              "\n",
              "[891 rows x 13 columns]"
            ]
          },
          "metadata": {},
          "execution_count": 96
        }
      ]
    },
    {
      "cell_type": "markdown",
      "metadata": {
        "id": "ph135_ppe2I4"
      },
      "source": [
        "<b>Write a function which accepts a dataframe, preprocesses the data (use task 1 notebook) and returns a new dataframe. </b> <br>\n",
        "you may need a helper function for normalizing data so feel free to define that as well"
      ]
    },
    {
      "cell_type": "code",
      "metadata": {
        "id": "nEgFQI3se0dn"
      },
      "source": [
        "def normal(take):\n",
        "  X_new=[]\n",
        "  X_max = max(take)\n",
        "  X_min = min(take)\n",
        "  for i in take:\n",
        "    X_new.append((i-X_min)/(X_max-X_min))\n",
        "  return X_new\n",
        "\n",
        "\n",
        "def titanic_preprocessing_pipeline(train_df):\n",
        "  #enter preprocessing steps as done in task 1\n",
        "  #make sure the preprocessed dataframe looks like the output in task 1\n",
        "  #return the dataframe\n",
        "  train_df.drop([\"PassengerId\", \"Ticket\", \"Name\"], axis=1, inplace=True)\n",
        "    \n",
        "  df_nan = pd.DataFrame()\n",
        "    \n",
        "  nan_dict = {}\n",
        "  for i in train_df.columns:\n",
        "    nan_dict[i] = (train_df[i].isnull().sum()/len(train_df))*100\n",
        "      \n",
        "    df_nan[\"Column\"] = nan_dict.keys()\n",
        "    df_nan[\"nan_percentage\"] = nan_dict.values()\n",
        "      \n",
        "    train_df.drop([\"Cabin\"], axis=1, inplace=True)\n",
        "      \n",
        "    train_df[\"Embarked\"].fillna(train_df[\"Embarked\"].mode()[0], inplace=True)\n",
        "    train_df[\"Age\"].fillna(train_df[\"Age\"].mean(), inplace=True)\n",
        "    train_df[\"Family_members\"] = train_df[\"SibSp\"] + train_df[\"Parch\"]\n",
        "    train_df.drop([\"SibSp\", \"Parch\"], axis=1, inplace=True)\n",
        "      \n",
        "    train_df[\"Age\"] = normal(train_df[\"Age\"])\n",
        "    train_df[\"Fare\"] = normal(train_df[\"Fare\"])\n",
        "    train_df[\"Family_members\"] = normal(train_df[\"Family_members\"]) \n",
        "      \n",
        "    new_df = pd.get_dummies(train_df, columns=[\"Pclass\", \"Sex\", \"Embarked\"])\n",
        "    return new_df\n",
        "  \n",
        "titanic_df = titanic_preprocessing_pipeline(titanic_df)"
      ],
      "execution_count": 97,
      "outputs": []
    },
    {
      "cell_type": "markdown",
      "metadata": {
        "id": "Rlnz6P-xh1SA"
      },
      "source": [
        "<b>extract the y label (survived) from the dataframe and store it in a new variable</b>"
      ]
    },
    {
      "cell_type": "code",
      "metadata": {
        "id": "R0WuPt4DhpOx"
      },
      "source": [
        "#write code here\n",
        "y=titanic_df['Survived']"
      ],
      "execution_count": 98,
      "outputs": []
    },
    {
      "cell_type": "markdown",
      "metadata": {
        "id": "NzP6YHDTiC--"
      },
      "source": [
        "<b>remove the y_label (survived) from the dataframe</b>"
      ]
    },
    {
      "cell_type": "code",
      "metadata": {
        "id": "DI0KwhYHiIBT"
      },
      "source": [
        "#write code here\n",
        "titanic_df.drop(['Survived'], axis=1, inplace=True)\n",
        "X=titanic_df[['Age', 'Fare', 'male']].values"
      ],
      "execution_count": 99,
      "outputs": []
    },
    {
      "cell_type": "markdown",
      "metadata": {
        "id": "7ut650pSiIw1"
      },
      "source": [
        "<b>Split the data into train and test. (do a split in the ratio 30:70)</b>"
      ]
    },
    {
      "cell_type": "code",
      "metadata": {
        "id": "phcn_hG7iRIN"
      },
      "source": [
        "#write code here\n",
        "from sklearn.model_selection import train_test_split\n",
        "X_train,X_test,y_train,y_test=train_test_split(X,y,test_size=0.3)"
      ],
      "execution_count": 100,
      "outputs": []
    },
    {
      "cell_type": "markdown",
      "metadata": {
        "id": "sqZl02RsiSbJ"
      },
      "source": [
        "<b>Now that you have the entire preprocessed and split data, implement the decision tree algorithm from sklearn and fit it to this dataset</b> <br>\n",
        "\n",
        "Make sure that you play with the hyperparameters to get a good result. You can even use bagging and boosting methods like random forest or adaboost to improve your accuracy. Visualize results, try different hyperparameters by using a loop, GET CREATIVE!<br>\n",
        "\n",
        "Machine learning is an iteritive process. You will have to keep playing with hyperparameters and algorithms. No fixed algorithm will work on a fixed dataset.\n",
        "\n",
        "Take this up as a challenge. The person with the best accuracy wins the round!"
      ]
    },
    {
      "cell_type": "markdown",
      "metadata": {
        "id": "EVNqRQx2j6iO"
      },
      "source": [
        "<b>Note that the accuracy on the test set will be considered and brownie points for not overfitting the model in the process</b>"
      ]
    },
    {
      "cell_type": "code",
      "metadata": {
        "id": "ulNAgERBjytd"
      },
      "source": [
        "#write code here\n",
        "from sklearn.model_selection import KFold\n",
        "from sklearn.ensemble import RandomForestClassifier\n",
        "\n",
        "kf = KFold(n_splits=50, shuffle=True)\n",
        "test_acc=[]\n",
        "train_acc=[]\n",
        "model = RandomForestClassifier(n_estimators=350, max_depth=15)\n",
        "for train_index, test_index in kf.split(X):\n",
        "    X_train, X_test = X[train_index], X[test_index]\n",
        "    y_train, y_test = y[train_index], y[test_index]\n",
        "    model.fit(X_train, y_train)\n",
        "    test_acc.append(model.score(X_test, y_test))\n",
        "    train_acc.append(model.score(X_train, y_train))"
      ],
      "execution_count": 101,
      "outputs": []
    },
    {
      "cell_type": "markdown",
      "metadata": {
        "id": "qpSDT-ZlkhRS"
      },
      "source": [
        "<b>print the test accuracy and train accuracy here</b>"
      ]
    },
    {
      "cell_type": "code",
      "metadata": {
        "id": "6zUFG8T7kkJz",
        "colab": {
          "base_uri": "https://localhost:8080/"
        },
        "outputId": "8da16a1e-5147-42ed-a346-1b13c28f437e"
      },
      "source": [
        "#write code here\n",
        "print('test accuracy: ', max(test_acc))\n",
        "print('train accuracy:', train_acc[test_acc.index(max(test_acc))])"
      ],
      "execution_count": 102,
      "outputs": [
        {
          "output_type": "stream",
          "name": "stdout",
          "text": [
            "test accuracy:  0.9444444444444444\n",
            "train accuracy: 0.979381443298969\n"
          ]
        }
      ]
    }
  ]
}